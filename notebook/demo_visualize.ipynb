{
 "cells": [
  {
   "cell_type": "code",
   "execution_count": 1,
   "metadata": {
    "collapsed": false
   },
   "outputs": [],
   "source": [
    "import zmq\n",
    "import json\n",
    "import time\n",
    "from quaternion import Quaternion\n",
    "from visualize import showteapot, qconvert"
   ]
  },
  {
   "cell_type": "code",
   "execution_count": 2,
   "metadata": {
    "collapsed": true
   },
   "outputs": [],
   "source": [
    "teapot, qzero,camera, renderer=showteapot()\n",
    "teapot.quaternion=qconvert(qzero)"
   ]
  },
  {
   "cell_type": "code",
   "execution_count": 9,
   "metadata": {
    "collapsed": false
   },
   "outputs": [],
   "source": [
    "\n",
    "context = zmq.Context()\n",
    "socket = context.socket(zmq.SUB)\n",
    "socket.setsockopt(zmq.SUBSCRIBE, \"\")\n",
    "\n",
    "#addr='tcp://raspberrypi.local:5559'\n",
    "addr='tcp://192.168.8.3:5559'\n",
    "socket.connect(addr)"
   ]
  },
  {
   "cell_type": "code",
   "execution_count": 10,
   "metadata": {
    "collapsed": false
   },
   "outputs": [],
   "source": [
    "\n",
    "i=0\n",
    "j=0\n",
    "while i<600:\n",
    "    i+=1\n",
    "    j+=1\n",
    "    msg = socket.recv()    \n",
    "    # decimate update from 20Hz to 4 Hz\n",
    "    if j>=5:\n",
    "        data = json.loads(msg)\n",
    "        q=Quaternion(data['q'])*qzero\n",
    "        teapot.quaternion=qconvert(q)\n",
    "        j=0\n"
   ]
  },
  {
   "cell_type": "code",
   "execution_count": null,
   "metadata": {
    "collapsed": true
   },
   "outputs": [],
   "source": []
  }
 ],
 "metadata": {
  "kernelspec": {
   "display_name": "Python 2",
   "language": "python",
   "name": "python2"
  },
  "language_info": {
   "codemirror_mode": {
    "name": "ipython",
    "version": 2
   },
   "file_extension": ".py",
   "mimetype": "text/x-python",
   "name": "python",
   "nbconvert_exporter": "python",
   "pygments_lexer": "ipython2",
   "version": "2.7.11"
  }
 },
 "nbformat": 4,
 "nbformat_minor": 0
}
